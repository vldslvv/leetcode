{
 "cells": [
  {
   "cell_type": "code",
   "execution_count": 2,
   "metadata": {},
   "outputs": [],
   "source": [
    "from typing import List"
   ]
  },
  {
   "cell_type": "code",
   "execution_count": 11,
   "metadata": {},
   "outputs": [],
   "source": [
    "# a = 3\n",
    "# b = 2\n",
    "\n",
    "# a = a + b = 2 + 3 = 5\n",
    "# b = 2\n",
    "\n",
    "# b = a - b = 5 - 2 = 3\n",
    "# a = a - b = 5 - 3 = 2\n",
    "\n",
    "a = 2\n",
    "b = 3\n",
    "a = a + b\n",
    "b = a - b\n",
    "a = a - b\n"
   ]
  },
  {
   "cell_type": "code",
   "execution_count": 12,
   "metadata": {},
   "outputs": [
    {
     "data": {
      "text/plain": [
       "(3, 2)"
      ]
     },
     "execution_count": 12,
     "metadata": {},
     "output_type": "execute_result"
    }
   ],
   "source": [
    "(a, b)"
   ]
  },
  {
   "cell_type": "code",
   "execution_count": null,
   "metadata": {},
   "outputs": [],
   "source": [
    "class Solution:\n",
    "    def sortArrayByParity(self, nums: List[int]) -> List[int]:\n",
    "        \"\"\"\n",
    "        Do not return anything, modify nums in-place instead.\n",
    "        \"\"\"\n",
    "\n",
    "        # where to put next non-zero value\n",
    "        i = 0\n",
    "        # running index\n",
    "        j = 0\n",
    "        \n",
    "        for j in range(len(nums)):\n",
    "            # Even?\n",
    "            if nums[j] % 2 == 1:\n",
    "                continue\n",
    "            # Odd?\n",
    "            else:\n",
    "                # Swap ith and jth elements\n",
    "                if i != j:\n",
    "                    nums[i], nums[j] = nums[j], nums[i]\n",
    "                i += 1\n",
    "\n",
    "        return nums"
   ]
  },
  {
   "cell_type": "code",
   "execution_count": 17,
   "metadata": {},
   "outputs": [],
   "source": [
    "class Solution(object):\n",
    "    def sortArrayByParity(self, A):\n",
    "        i, j = 0, len(A) - 1\n",
    "        while i < j:\n",
    "            if A[i] % 2 > A[j] % 2:\n",
    "                A[i], A[j] = A[j], A[i]\n",
    "\n",
    "            if A[i] % 2 == 0: \n",
    "                i += 1\n",
    "            if A[j] % 2 == 1: \n",
    "                j -= 1\n",
    "\n",
    "        return A"
   ]
  },
  {
   "cell_type": "code",
   "execution_count": 19,
   "metadata": {},
   "outputs": [
    {
     "name": "stdout",
     "output_type": "stream",
     "text": [
      "[4, 2, 1, 3]\n"
     ]
    }
   ],
   "source": [
    "arr = [3,1,2,4]\n",
    "Solution().sortArrayByParity(arr)\n",
    "print(arr)"
   ]
  },
  {
   "cell_type": "code",
   "execution_count": 208,
   "metadata": {},
   "outputs": [
    {
     "data": {
      "text/plain": [
       "[70605, 70605, 70605, 70605, -1]"
      ]
     },
     "execution_count": 208,
     "metadata": {},
     "output_type": "execute_result"
    }
   ],
   "source": [
    "arr = [57010,40840,69871,14425,70605]\n",
    "Solution().replaceElements(arr"
   ]
  },
  {
   "cell_type": "code",
   "execution_count": 209,
   "metadata": {},
   "outputs": [
    {
     "data": {
      "text/plain": [
       "[-1]"
      ]
     },
     "execution_count": 209,
     "metadata": {},
     "output_type": "execute_result"
    }
   ],
   "source": [
    "arr = [1]\n",
    "Solution().replaceElements(arr)"
   ]
  },
  {
   "cell_type": "code",
   "execution_count": 210,
   "metadata": {},
   "outputs": [
    {
     "data": {
      "text/plain": [
       "[18, 6, 6, 6, 1, -1]"
      ]
     },
     "execution_count": 210,
     "metadata": {},
     "output_type": "execute_result"
    }
   ],
   "source": [
    "arr = [17,18,5,4,6,1]\n",
    "Solution().replaceElements(arr)"
   ]
  },
  {
   "cell_type": "code",
   "execution_count": null,
   "metadata": {},
   "outputs": [],
   "source": []
  }
 ],
 "metadata": {
  "interpreter": {
   "hash": "f1b5f1ce2a4d743a6052047a0cc3922dd02b9a2e6c2a7610c0ad9ed23a65be92"
  },
  "kernelspec": {
   "display_name": "Python 3.10.4 ('.venv': venv)",
   "language": "python",
   "name": "python3"
  },
  "language_info": {
   "codemirror_mode": {
    "name": "ipython",
    "version": 3
   },
   "file_extension": ".py",
   "mimetype": "text/x-python",
   "name": "python",
   "nbconvert_exporter": "python",
   "pygments_lexer": "ipython3",
   "version": "3.10.4"
  },
  "orig_nbformat": 4
 },
 "nbformat": 4,
 "nbformat_minor": 2
}
