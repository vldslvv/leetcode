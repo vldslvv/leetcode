{
 "cells": [
  {
   "cell_type": "code",
   "execution_count": 80,
   "metadata": {},
   "outputs": [],
   "source": [
    "from typing import List, Tuple\n",
    "from collections import deque\n",
    "\n",
    "# BFS search\n",
    "# Mark target state as -1\n",
    "# On each step, step += 1\n",
    "# Mark each step as dict[state] = steps\n",
    "# If dead end reached, terminate\n",
    "# Mark end state with reached number of steps\n",
    "# If old state > new state, overwrite with a new, smaller number of steps\n",
    "# TODO decide when to terminate search (for example, a state has less steps that already made)\n",
    "\n",
    "# Two queues, one queue from 0000, second from target\n",
    "# While both queues are not empty, or one of queues if not empty\n",
    "# make two steps, \n",
    "class Solution:\n",
    "    def get_states(self, state) -> List[str]:\n",
    "        states = []\n",
    "        for i in range(len(state)):\n",
    "            wheel = int(state[i])\n",
    "            wheel_up = (wheel + 1) % 10\n",
    "            wheel_down = (wheel - 1) % 10\n",
    "            states.append(f'{state[:i]}{wheel_up}{state[i+1:]}')\n",
    "            states.append(f'{state[:i]}{wheel_down}{state[i+1:]}')\n",
    "        return states\n",
    "            \n",
    "    def openLock(self, deadends: List[str], target: str) -> int:\n",
    "        init_state = \"0\" * len(target)\n",
    "        if init_state == target:\n",
    "            return 0\n",
    "        \n",
    "        dead_set = set(deadends)\n",
    "        visited_start = set()\n",
    "        visited_end = set()\n",
    "        step = 0\n",
    "        q_start = deque([(init_state, 0)])\n",
    "        q_end = deque([(target, 0)])\n",
    "        \n",
    "        while q_start or q_end:\n",
    "            if len(q_start) != 0 and len(q_start) <= len(q_end):\n",
    "                cur_q = q_start\n",
    "                cur_visited = visited_start\n",
    "                cur_visited_opposite = visited_end\n",
    "                cur_size = len(q_start)\n",
    "            elif len(q_end) != 0:\n",
    "                cur_q = q_end\n",
    "                cur_visited = visited_end\n",
    "                cur_visited_opposite = visited_start\n",
    "                cur_size = len(q_end) \n",
    "            else:\n",
    "                return -1\n",
    "\n",
    "            for _ in range(cur_size):\n",
    "                state, that_step = cur_q.popleft()\n",
    "                if state in dead_set:\n",
    "                    continue\n",
    "                if state in cur_visited:\n",
    "                    continue\n",
    "                if state in cur_visited_opposite:\n",
    "                    return that_step\n",
    "                cur_visited.add(state)\n",
    "                next_states = self.get_states(state)\n",
    "                for s in next_states:\n",
    "                    cur_q.append((s, step))\n",
    "            step += 1\n",
    "                \n",
    "        return -1"
   ]
  },
  {
   "cell_type": "code",
   "execution_count": null,
   "metadata": {},
   "outputs": [],
   "source": []
  },
  {
   "cell_type": "code",
   "execution_count": 82,
   "metadata": {},
   "outputs": [
    {
     "data": {
      "text/plain": [
       "3"
      ]
     },
     "execution_count": 82,
     "metadata": {},
     "output_type": "execute_result"
    }
   ],
   "source": [
    "d = [\"2110\",\"0202\",\"1222\",\"2221\",\"1010\"]\n",
    "t = \"2010\"\n",
    "Solution().openLock(d, t) #3"
   ]
  },
  {
   "cell_type": "code",
   "execution_count": 84,
   "metadata": {},
   "outputs": [
    {
     "data": {
      "text/plain": [
       "-1"
      ]
     },
     "execution_count": 84,
     "metadata": {},
     "output_type": "execute_result"
    }
   ],
   "source": [
    "d = [\"7\",\"9\"]\n",
    "t = \"8\"\n",
    "Solution().openLock(d, t)"
   ]
  },
  {
   "cell_type": "code",
   "execution_count": 85,
   "metadata": {},
   "outputs": [
    {
     "data": {
      "text/plain": [
       "-1"
      ]
     },
     "execution_count": 85,
     "metadata": {},
     "output_type": "execute_result"
    }
   ],
   "source": [
    "d = [\"87\",\"89\",\"78\",\"98\"]\n",
    "t = \"88\"\n",
    "Solution().openLock(d, t)"
   ]
  },
  {
   "cell_type": "code",
   "execution_count": 86,
   "metadata": {},
   "outputs": [
    {
     "data": {
      "text/plain": [
       "0"
      ]
     },
     "execution_count": 86,
     "metadata": {},
     "output_type": "execute_result"
    }
   ],
   "source": [
    "Solution().openLock([\"8888\"], \"0009\")"
   ]
  },
  {
   "cell_type": "code",
   "execution_count": 71,
   "metadata": {},
   "outputs": [
    {
     "data": {
      "text/plain": [
       "3"
      ]
     },
     "execution_count": 71,
     "metadata": {},
     "output_type": "execute_result"
    }
   ],
   "source": [
    "Solution().openLock([], \"12\") #3"
   ]
  },
  {
   "cell_type": "code",
   "execution_count": 72,
   "metadata": {},
   "outputs": [
    {
     "data": {
      "text/plain": [
       "5"
      ]
     },
     "execution_count": 72,
     "metadata": {},
     "output_type": "execute_result"
    }
   ],
   "source": [
    "Solution().openLock([\"11\", \"99\", \"01\", \"10\"], \"12\") #5"
   ]
  },
  {
   "cell_type": "code",
   "execution_count": 73,
   "metadata": {},
   "outputs": [
    {
     "data": {
      "text/plain": [
       "3"
      ]
     },
     "execution_count": 73,
     "metadata": {},
     "output_type": "execute_result"
    }
   ],
   "source": [
    "Solution().openLock([], \"111\") #3"
   ]
  },
  {
   "cell_type": "code",
   "execution_count": 75,
   "metadata": {},
   "outputs": [
    {
     "data": {
      "text/plain": [
       "6"
      ]
     },
     "execution_count": 75,
     "metadata": {},
     "output_type": "execute_result"
    }
   ],
   "source": [
    "deadends = [\"0201\",\"0101\",\"0102\",\"1212\",\"2002\"]\n",
    "target = \"0202\"\n",
    "Solution().openLock(deadends, target) #6?"
   ]
  },
  {
   "cell_type": "code",
   "execution_count": null,
   "metadata": {},
   "outputs": [],
   "source": []
  },
  {
   "cell_type": "code",
   "execution_count": null,
   "metadata": {},
   "outputs": [],
   "source": [
    "# 0000\n",
    "# 0001 0009 0010 0090 0100 0900 1000 9000\n"
   ]
  }
 ],
 "metadata": {
  "interpreter": {
   "hash": "7bd651dc0eff7b903063a8978f3921aafe090359007a6cbb781c01b3d3b9e153"
  },
  "kernelspec": {
   "display_name": "Python 3.10.4 ('.venv': venv)",
   "language": "python",
   "name": "python3"
  },
  "language_info": {
   "codemirror_mode": {
    "name": "ipython",
    "version": 3
   },
   "file_extension": ".py",
   "mimetype": "text/x-python",
   "name": "python",
   "nbconvert_exporter": "python",
   "pygments_lexer": "ipython3",
   "version": "3.10.4"
  },
  "orig_nbformat": 4
 },
 "nbformat": 4,
 "nbformat_minor": 2
}
